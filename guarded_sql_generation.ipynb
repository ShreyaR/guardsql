{
 "cells": [
  {
   "cell_type": "markdown",
   "metadata": {},
   "source": [
    "## GuardSQL"
   ]
  },
  {
   "cell_type": "code",
   "execution_count": 13,
   "metadata": {},
   "outputs": [],
   "source": [
    "import json\n",
    "\n",
    "import openai\n",
    "import pandas as pd\n",
    "\n",
    "import guardrails as gd\n",
    "from utils import get_examples\n",
    "\n",
    "from utils import sqllite_db_to_prompt, sqllite_db_to_prompt_tables"
   ]
  },
  {
   "cell_type": "code",
   "execution_count": 29,
   "metadata": {},
   "outputs": [],
   "source": [
    "rail_spec = \"\"\"\n",
    "<rail version=\"0.1\">\n",
    "\n",
    "<output>\n",
    "    <sql\n",
    "        name=\"generated_sql\"\n",
    "        description=\"Generate SQL for the given natural language instruction.\"\n",
    "        format=\"bug-free-sql\"\n",
    "        on-fail-bug-free-sql=\"reask\" \n",
    "    />\n",
    "</output>\n",
    "\n",
    "\n",
    "<prompt>\n",
    "\n",
    "Here are few text to sql examples:\n",
    "{{examples}}\n",
    "\n",
    "Generate a valid SQL query for the following natural language instruction:\n",
    "\n",
    "{{nl_instruction}}\n",
    "\n",
    "Here's schema about the database that you can use to generate the SQL query.\n",
    "Try to avoid using joins if the data can be retrieved from the same table.\n",
    "\n",
    "{{db_info}}\n",
    "\n",
    "@complete_json_suffix\n",
    "</prompt>\n",
    "\n",
    "\n",
    "</rail>\n",
    "\"\"\""
   ]
  },
  {
   "cell_type": "code",
   "execution_count": 30,
   "metadata": {},
   "outputs": [],
   "source": [
    "guard = gd.Guard.from_rail_string(rail_spec)"
   ]
  },
  {
   "cell_type": "code",
   "execution_count": null,
   "metadata": {},
   "outputs": [],
   "source": [
    "dataset = []\n",
    "\n",
    "with open('/Users/shreyarajpal/Downloads/spider/train_spider.json') as f:\n",
    "    data = json.load(f)\n",
    "    for row in data:\n",
    "        dataset.append({\n",
    "            'db_id': row['db_id'],\n",
    "            'query': row['query'],\n",
    "            'question': row['question']}\n",
    "        )\n",
    "\n",
    "df = pd.DataFrame(dataset)"
   ]
  },
  {
   "cell_type": "code",
   "execution_count": null,
   "metadata": {},
   "outputs": [],
   "source": [
    "df"
   ]
  },
  {
   "cell_type": "code",
   "execution_count": null,
   "metadata": {},
   "outputs": [],
   "source": [
    "from utils import get_examples"
   ]
  },
  {
   "cell_type": "code",
   "execution_count": 71,
   "metadata": {},
   "outputs": [],
   "source": [
    "db_id = \"table_10875694_11\"\n"
   ]
  },
  {
   "cell_type": "code",
   "execution_count": 46,
   "metadata": {},
   "outputs": [
    {
     "data": {
      "text/plain": [
       "'Query: Tell me what the notes are for South Australia  \\n JSON Object: \"generated_sql\": SELECT  col5 FROM table WHERE col3 = SOUTH AUSTRALIA] Query: What is the format for South Australia? \\n JSON Object: \"generated_sql\": SELECT  col2 FROM table WHERE col0 = South Australia] Query: who is the manufacturer for the order year 1998? \\n JSON Object: \"generated_sql\": SELECT  col1 FROM table WHERE col0 = 1998] Query: how many times is the fleet series (quantity) is 468-473 (6)? \\n JSON Object: \"generated_sql\": SELECT COUNT col0 FROM table WHERE col3 = 468-473 (6)] Query: what is the fuel propulsion where the fleet series (quantity) is 310-329 (20)? \\n JSON Object: \"generated_sql\": SELECT  col5 FROM table WHERE col3 = 310-329 (20)] Query: Name the background colour for the Australian Capital Territory \\n JSON Object: \"generated_sql\": SELECT  col1 FROM table WHERE col0 = Australian Capital Territory] Query: how many times is the fuel propulsion is cng? \\n JSON Object: \"generated_sql\": SELECT COUNT col3 FROM table WHERE col5 = CNG] Query: What is the current series where the new series began in June 2011? \\n JSON Object: \"generated_sql\": SELECT  col4 FROM table WHERE col5 = New series began in June 2011] Query: how many times is the model ge40lfr? \\n JSON Object: \"generated_sql\": SELECT COUNT col1 FROM table WHERE col2 = GE40LFR] Query: what is the powertrain (engine/transmission) when the order year is 2000? \\n JSON Object: \"generated_sql\": SELECT  col4 FROM table WHERE col0 = 2000]'"
      ]
     },
     "execution_count": 46,
     "metadata": {},
     "output_type": "execute_result"
    }
   ],
   "source": [
    "' '.join(['Query: {s0} \\n JSON Object: \"generated_sql\": {s1}]'.format(s0=el[0], s1=el[1]) for el in get_examples('some', k=10)])"
   ]
  },
  {
   "cell_type": "code",
   "execution_count": 68,
   "metadata": {},
   "outputs": [
    {
     "name": "stderr",
     "output_type": "stream",
     "text": [
      "/opt/conda/lib/python3.10/site-packages/eliot/json.py:22: FutureWarning: In the future `np.bool` will be defined as the corresponding NumPy scalar.  (This may have returned Python scalars in past versions.\n",
      "  if isinstance(o, (numpy.bool, numpy.bool_)):\n"
     ]
    }
   ],
   "source": [
    "def nl2sql(nl_instruction: str, db_id: str) -> str:\n",
    "    db_info = sqllite_db_to_prompt_tables(f'./data/train.db', table=db_id)\n",
    "\n",
    "    #with open(f'/Users/shreyarajpal/Downloads/spider/database/{db_id}/schema.sql') as f:\n",
    "    #    db_schema = f.read()\n",
    "    examples = ['Query: {s0} \\n JSON Object: KARSAS\"generated_sql\": {s1}KARKAS2 \\n'.format(s0=el[0], s1=el[1]) for el in get_examples('some', k=10)]\n",
    "    examples = [e.replace(\"KARSAS\", \"{\").replace(\"KARKAS2\", \"}\") for e in examples]\n",
    "\n",
    "    response = guard(\n",
    "        openai.Completion.create,\n",
    "        prompt_params={\n",
    "            'nl_instruction': nl_instruction,\n",
    "            'examples': ' '.join(examples),\n",
    "            'db_info': db_info,\n",
    "            # 'db_schema': db_schema,\n",
    "        },\n",
    "        engine='text-davinci-003',\n",
    "        temperature=0.0,\n",
    "        max_tokens=512,\n",
    "    )\n",
    "    return response[1]['generated_sql']\n",
    "query = nl2sql('what is the name of', db_id = \"None\")"
   ]
  },
  {
   "cell_type": "code",
   "execution_count": 90,
   "metadata": {},
   "outputs": [
    {
     "name": "stderr",
     "output_type": "stream",
     "text": [
      "/opt/conda/lib/python3.10/site-packages/eliot/json.py:22: FutureWarning: In the future `np.bool` will be defined as the corresponding NumPy scalar.  (This may have returned Python scalars in past versions.\n",
      "  if isinstance(o, (numpy.bool, numpy.bool_)):\n"
     ]
    },
    {
     "data": {
      "text/html": [
       "<div>\n",
       "<style scoped>\n",
       "    .dataframe tbody tr th:only-of-type {\n",
       "        vertical-align: middle;\n",
       "    }\n",
       "\n",
       "    .dataframe tbody tr th {\n",
       "        vertical-align: top;\n",
       "    }\n",
       "\n",
       "    .dataframe thead th {\n",
       "        text-align: right;\n",
       "    }\n",
       "</style>\n",
       "<table border=\"1\" class=\"dataframe\">\n",
       "  <thead>\n",
       "    <tr style=\"text-align: right;\">\n",
       "      <th></th>\n",
       "      <th>col0</th>\n",
       "      <th>col1</th>\n",
       "      <th>col2</th>\n",
       "      <th>col3</th>\n",
       "      <th>col4</th>\n",
       "      <th>col5</th>\n",
       "    </tr>\n",
       "  </thead>\n",
       "  <tbody>\n",
       "    <tr>\n",
       "      <th>0</th>\n",
       "      <td>australian capital territory</td>\n",
       "      <td>blue/white</td>\n",
       "      <td>yaa·nna</td>\n",
       "      <td>act · celebration of a century 2013</td>\n",
       "      <td>yil·00a</td>\n",
       "      <td>slogan screenprinted on plate</td>\n",
       "    </tr>\n",
       "    <tr>\n",
       "      <th>1</th>\n",
       "      <td>new south wales</td>\n",
       "      <td>black/yellow</td>\n",
       "      <td>aa·nn·aa</td>\n",
       "      <td>new south wales</td>\n",
       "      <td>bx·99·hi</td>\n",
       "      <td>no slogan on current series</td>\n",
       "    </tr>\n",
       "    <tr>\n",
       "      <th>2</th>\n",
       "      <td>new south wales</td>\n",
       "      <td>black/white</td>\n",
       "      <td>aaa·nna</td>\n",
       "      <td>nsw</td>\n",
       "      <td>cpx·12a</td>\n",
       "      <td>optional white slimline series</td>\n",
       "    </tr>\n",
       "    <tr>\n",
       "      <th>3</th>\n",
       "      <td>northern territory</td>\n",
       "      <td>ochre/white</td>\n",
       "      <td>ca·nn·aa</td>\n",
       "      <td>nt · outback australia</td>\n",
       "      <td>cb·06·zz</td>\n",
       "      <td>new series began in june 2011</td>\n",
       "    </tr>\n",
       "    <tr>\n",
       "      <th>4</th>\n",
       "      <td>queensland</td>\n",
       "      <td>maroon/white</td>\n",
       "      <td>nnn·aaa</td>\n",
       "      <td>queensland · sunshine state</td>\n",
       "      <td>999·tlg</td>\n",
       "      <td>slogan embossed on plate</td>\n",
       "    </tr>\n",
       "    <tr>\n",
       "      <th>5</th>\n",
       "      <td>south australia</td>\n",
       "      <td>black/white</td>\n",
       "      <td>snnn·aaa</td>\n",
       "      <td>south australia</td>\n",
       "      <td>s000·azd</td>\n",
       "      <td>no slogan on current series</td>\n",
       "    </tr>\n",
       "    <tr>\n",
       "      <th>6</th>\n",
       "      <td>victoria</td>\n",
       "      <td>blue/white</td>\n",
       "      <td>aaa·nnn</td>\n",
       "      <td>victoria - the place to be</td>\n",
       "      <td>zzz·562</td>\n",
       "      <td>current series will be exhausted this year</td>\n",
       "    </tr>\n",
       "  </tbody>\n",
       "</table>\n",
       "</div>"
      ],
      "text/plain": [
       "                           col0          col1      col2  \\\n",
       "0  australian capital territory    blue/white   yaa·nna   \n",
       "1               new south wales  black/yellow  aa·nn·aa   \n",
       "2               new south wales   black/white   aaa·nna   \n",
       "3            northern territory   ochre/white  ca·nn·aa   \n",
       "4                    queensland  maroon/white   nnn·aaa   \n",
       "5               south australia   black/white  snnn·aaa   \n",
       "6                      victoria    blue/white   aaa·nnn   \n",
       "\n",
       "                                  col3      col4  \\\n",
       "0  act · celebration of a century 2013   yil·00a   \n",
       "1                      new south wales  bx·99·hi   \n",
       "2                                  nsw   cpx·12a   \n",
       "3               nt · outback australia  cb·06·zz   \n",
       "4          queensland · sunshine state   999·tlg   \n",
       "5                      south australia  s000·azd   \n",
       "6           victoria - the place to be   zzz·562   \n",
       "\n",
       "                                         col5  \n",
       "0               slogan screenprinted on plate  \n",
       "1                 no slogan on current series  \n",
       "2              optional white slimline series  \n",
       "3               new series began in june 2011  \n",
       "4                    slogan embossed on plate  \n",
       "5                 no slogan on current series  \n",
       "6  current series will be exhausted this year  "
      ]
     },
     "execution_count": 90,
     "metadata": {},
     "output_type": "execute_result"
    }
   ],
   "source": [
    "from lib.dbengine import DBEngine\n",
    "import sqlite3\n",
    "db = sqlite3.connect(dbfile)\n",
    "\n",
    "\n",
    "def execute(instruction, dbfile = \"./data/train.db\", db_id = \"table_1_1000181_1\"):\n",
    "    engine = DBEngine(dbfile)\n",
    "    query = nl2sql(instruction, db_id = db_id)\n",
    "    el = pd.read_sql_query(query, db)\n",
    "    return el\n",
    "\n",
    "execute(\"I need smth\")\n",
    "\n"
   ]
  },
  {
   "cell_type": "code",
   "execution_count": 88,
   "metadata": {},
   "outputs": [
    {
     "name": "stdout",
     "output_type": "stream",
     "text": [
      "{'generated_sql': 'SELECT col1 FROM table_1_1000181_1'}\n"
     ]
    }
   ],
   "source": [
    "print(guard.state.most_recent_call.history[-1].validated_output)"
   ]
  },
  {
   "cell_type": "code",
   "execution_count": 51,
   "metadata": {},
   "outputs": [],
   "source": [
    "import os\n",
    "os.environ['OPENAI_API_KEY'] = openai.api_key = ''\n"
   ]
  },
  {
   "cell_type": "code",
   "execution_count": 52,
   "metadata": {},
   "outputs": [
    {
     "name": "stderr",
     "output_type": "stream",
     "text": [
      "/opt/conda/lib/python3.10/site-packages/eliot/json.py:22: FutureWarning: In the future `np.bool` will be defined as the corresponding NumPy scalar.  (This may have returned Python scalars in past versions.\n",
      "  if isinstance(o, (numpy.bool, numpy.bool_)):\n"
     ]
    },
    {
     "ename": "TypeError",
     "evalue": "'NoneType' object is not subscriptable",
     "output_type": "error",
     "traceback": [
      "\u001b[0;31m---------------------------------------------------------------------------\u001b[0m",
      "\u001b[0;31mTypeError\u001b[0m                                 Traceback (most recent call last)",
      "Cell \u001b[0;32mIn[52], line 1\u001b[0m\n\u001b[0;32m----> 1\u001b[0m query \u001b[39m=\u001b[39m nl2sql(\u001b[39m'\u001b[39;49m\u001b[39mwhat is the name of\u001b[39;49m\u001b[39m'\u001b[39;49m, db_id \u001b[39m=\u001b[39;49m \u001b[39m\"\u001b[39;49m\u001b[39mNone\u001b[39;49m\u001b[39m\"\u001b[39;49m)\n\u001b[1;32m      2\u001b[0m \u001b[39mprint\u001b[39m(query)\n",
      "Cell \u001b[0;32mIn[50], line 19\u001b[0m, in \u001b[0;36mnl2sql\u001b[0;34m(nl_instruction, db_id)\u001b[0m\n\u001b[1;32m      4\u001b[0m \u001b[39m#with open(f'/Users/shreyarajpal/Downloads/spider/database/{db_id}/schema.sql') as f:\u001b[39;00m\n\u001b[1;32m      5\u001b[0m \u001b[39m#    db_schema = f.read()\u001b[39;00m\n\u001b[1;32m      7\u001b[0m response \u001b[39m=\u001b[39m guard(\n\u001b[1;32m      8\u001b[0m     openai\u001b[39m.\u001b[39mCompletion\u001b[39m.\u001b[39mcreate,\n\u001b[1;32m      9\u001b[0m     prompt_params\u001b[39m=\u001b[39m{\n\u001b[0;32m   (...)\u001b[0m\n\u001b[1;32m     17\u001b[0m     max_tokens\u001b[39m=\u001b[39m\u001b[39m512\u001b[39m,\n\u001b[1;32m     18\u001b[0m )\n\u001b[0;32m---> 19\u001b[0m \u001b[39mreturn\u001b[39;00m response[\u001b[39m1\u001b[39;49m][\u001b[39m'\u001b[39;49m\u001b[39mgenerated_sql\u001b[39;49m\u001b[39m'\u001b[39;49m]\n",
      "\u001b[0;31mTypeError\u001b[0m: 'NoneType' object is not subscriptable"
     ]
    }
   ],
   "source": []
  },
  {
   "cell_type": "code",
   "execution_count": 25,
   "metadata": {},
   "outputs": [
    {
     "ename": "NameError",
     "evalue": "name 'engine' is not defined",
     "output_type": "error",
     "traceback": [
      "\u001b[0;31m---------------------------------------------------------------------------\u001b[0m",
      "\u001b[0;31mNameError\u001b[0m                                 Traceback (most recent call last)",
      "Cell \u001b[0;32mIn[25], line 1\u001b[0m\n\u001b[0;32m----> 1\u001b[0m gold \u001b[39m=\u001b[39m engine\u001b[39m.\u001b[39mexecute_query(\u001b[39m\"\u001b[39m\u001b[39mtable_10875694_11\u001b[39m\u001b[39m\"\u001b[39m, qg, lower\u001b[39m=\u001b[39m\u001b[39mTrue\u001b[39;00m)\n",
      "\u001b[0;31mNameError\u001b[0m: name 'engine' is not defined"
     ]
    }
   ],
   "source": []
  },
  {
   "cell_type": "code",
   "execution_count": null,
   "metadata": {},
   "outputs": [],
   "source": [
    "df_sample = df[:10]\n",
    "df_sample"
   ]
  },
  {
   "cell_type": "code",
   "execution_count": null,
   "metadata": {},
   "outputs": [],
   "source": [
    "# Apply a function to each row of the dataframe for the first 10 rows\n",
    "# Add the output of this function as  a new column in the dataframe\n",
    "\n",
    "df_sample['generated_sql'] = df_sample.apply(lambda row: nl2sql(row['question'], row['db_id']), axis=1)\n",
    "\n",
    "# output = df[:1].apply(lambda row: nl2sql(row['question'], row['db_id']), axis=1)"
   ]
  },
  {
   "cell_type": "code",
   "execution_count": null,
   "metadata": {},
   "outputs": [],
   "source": [
    "# Display only the columns question and generated_sql for the first 10 rows\n",
    "\n",
    "df_sample[['question', 'generated_sql', 'query']]"
   ]
  },
  {
   "cell_type": "code",
   "execution_count": 53,
   "metadata": {},
   "outputs": [
    {
     "name": "stdout",
     "output_type": "stream",
     "text": [
      "\n",
      "\n",
      "Here are few text to sql examples:\n",
      "Query: Tell me what the notes are for South Australia  \n",
      " JSON Object: \"generated_sql\": SELECT  col5 FROM table WHERE col3 = SOUTH AUSTRALIA] Query: What is the format for South Australia? \n",
      " JSON Object: \"generated_sql\": SELECT  col2 FROM table WHERE col0 = South Australia] Query: who is the manufacturer for the order year 1998? \n",
      " JSON Object: \"generated_sql\": SELECT  col1 FROM table WHERE col0 = 1998] Query: how many times is the fleet series (quantity) is 468-473 (6)? \n",
      " JSON Object: \"generated_sql\": SELECT COUNT col0 FROM table WHERE col3 = 468-473 (6)] Query: what is the fuel propulsion where the fleet series (quantity) is 310-329 (20)? \n",
      " JSON Object: \"generated_sql\": SELECT  col5 FROM table WHERE col3 = 310-329 (20)] Query: Name the background colour for the Australian Capital Territory \n",
      " JSON Object: \"generated_sql\": SELECT  col1 FROM table WHERE col0 = Australian Capital Territory] Query: how many times is the fuel propulsion is cng? \n",
      " JSON Object: \"generated_sql\": SELECT COUNT col3 FROM table WHERE col5 = CNG] Query: What is the current series where the new series began in June 2011? \n",
      " JSON Object: \"generated_sql\": SELECT  col4 FROM table WHERE col5 = New series began in June 2011] Query: how many times is the model ge40lfr? \n",
      " JSON Object: \"generated_sql\": SELECT COUNT col1 FROM table WHERE col2 = GE40LFR] Query: what is the powertrain (engine/transmission) when the order year is 2000? \n",
      " JSON Object: \"generated_sql\": SELECT  col4 FROM table WHERE col0 = 2000]\n",
      "\n",
      "Generate a valid SQL query for the following natural language instruction:\n",
      "\n",
      "what is the name of\n",
      "\n",
      "Here's schema about the database that you can use to generate the SQL query.\n",
      "Try to avoid using joins if the data can be retrieved from the same table.\n",
      "\n",
      "defaultdict(<class 'list'>, {})\n",
      "\n",
      "\n",
      "Given below is XML that describes the information to extract from this document and the tags to extract it into.\n",
      "\n",
      "<output>\n",
      "    <sql name=\"generated_sql\" description=\"Generate SQL for the given natural language instruction.\" format=\"bug-free-sql: \"/>\n",
      "</output>\n",
      "\n",
      "ONLY return a valid JSON object (no other text is necessary), where the key of the field in JSON is the `name` attribute of the corresponding XML, and the value is of the type specified by the corresponding XML's tag. The JSON MUST conform to the XML format, including any types and format requests e.g. requests for lists, objects and specific types. Be correct and concise. If you are unsure anywhere, enter `None`.\n",
      "\n",
      "Here are examples of simple (XML, JSON) pairs that show the expected behavior:\n",
      "- `<string name='foo' format='two-words lower-case' />` => `{'foo': 'example one'}`\n",
      "- `<list name='bar'><string format='upper-case' /></list>` => `{\"bar\": ['STRING ONE', 'STRING TWO', etc.]}`\n",
      "- `<object name='baz'><string name=\"foo\" format=\"capitalize two-words\" /><integer name=\"index\" format=\"1-indexed\" /></object>` => `{'baz': {'foo': 'Some String', 'index': 1}}`\n",
      "\n",
      "JSON Object:\n",
      "\n"
     ]
    }
   ],
   "source": []
  },
  {
   "cell_type": "code",
   "execution_count": null,
   "metadata": {},
   "outputs": [],
   "source": []
  },
  {
   "cell_type": "code",
   "execution_count": null,
   "metadata": {},
   "outputs": [],
   "source": []
  },
  {
   "cell_type": "code",
   "execution_count": null,
   "metadata": {},
   "outputs": [],
   "source": []
  },
  {
   "cell_type": "code",
   "execution_count": null,
   "metadata": {},
   "outputs": [],
   "source": []
  },
  {
   "cell_type": "code",
   "execution_count": null,
   "metadata": {},
   "outputs": [],
   "source": []
  }
 ],
 "metadata": {
  "kernelspec": {
   "display_name": "tiff-env",
   "language": "python",
   "name": "python3"
  },
  "language_info": {
   "codemirror_mode": {
    "name": "ipython",
    "version": 3
   },
   "file_extension": ".py",
   "mimetype": "text/x-python",
   "name": "python",
   "nbconvert_exporter": "python",
   "pygments_lexer": "ipython3",
   "version": "3.10.6"
  },
  "orig_nbformat": 4
 },
 "nbformat": 4,
 "nbformat_minor": 2
}
